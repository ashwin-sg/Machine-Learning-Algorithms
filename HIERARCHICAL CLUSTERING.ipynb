{
 "cells": [
  {
   "cell_type": "code",
   "execution_count": 1,
   "metadata": {},
   "outputs": [],
   "source": [
    "import numpy as np\n",
    "\n",
    "X = np.array([[5,3],\n",
    "    [10,15],\n",
    "    [15,12],\n",
    "    [24,10],\n",
    "    [30,30],\n",
    "    [85,70],\n",
    "    [71,80],\n",
    "    [60,78],\n",
    "    [70,55],\n",
    "    [80,91],])"
   ]
  },
  {
   "cell_type": "code",
   "execution_count": 6,
   "metadata": {},
   "outputs": [
    {
     "data": {
      "image/png": "[encoded data removed]",
      "text/plain": [
       "<Figure size 720x504 with 1 Axes>"
      ]
     },
     "metadata": {
      "needs_background": "light"
     },
     "output_type": "display_data"
    }
   ],
   "source": [
    "import matplotlib.pyplot as plt\n",
    "\n",
    "labels = range(1, 11)\n",
    "plt.figure(figsize=(10,7))\n",
    "plt.subplots_adjust(bottom=0.1)\n",
    "plt.scatter(X[:,0],X[:,1], label='True position')\n",
    "\n",
    "for label, x, y in zip(labels,X[:,0],X[:,1]):\n",
    "    plt.annotate(\n",
    "        label,\n",
    "        xy = (x,y), xytext = (-3,3),\n",
    "        textcoords= 'offset points', ha='right', va='bottom')\n",
    "    \n",
    "plt.show()"
   ]
  },
  {
   "cell_type": "code",
   "execution_count": 7,
   "metadata": {},
   "outputs": [
    {
     "name": "stdout",
     "output_type": "stream",
     "text": [
      "Collecting package metadata (current_repodata.json): ...working... done\n",
      "Solving environment: ...working... done\n",
      "\n",
      "## Package Plan ##\n",
      "\n",
      "  environment location: C:\\Users\\Ashwin\\anaconda3\n",
      "\n",
      "  added / updated specs:\n",
      "    - scipy\n",
      "\n",
      "\n",
      "The following packages will be downloaded:\n",
      "\n",
      "    package                    |            build\n",
      "    ---------------------------|-----------------\n",
      "    conda-4.8.4                |           py37_0         2.9 MB\n",
      "    ------------------------------------------------------------\n",
      "                                           Total:         2.9 MB\n",
      "\n",
      "The following packages will be UPDATED:\n",
      "\n",
      "  conda                                        4.8.3-py37_0 --> 4.8.4-py37_0\n",
      "\n",
      "\n",
      "\n",
      "Downloading and Extracting Packages\n",
      "\n",
      "conda-4.8.4          | 2.9 MB    |            |   0% \n",
      "conda-4.8.4          | 2.9 MB    |            |   1% \n",
      "conda-4.8.4          | 2.9 MB    | 7          |   7% \n",
      "conda-4.8.4          | 2.9 MB    | #4         |  15% \n",
      "conda-4.8.4          | 2.9 MB    | ##3        |  24% \n",
      "conda-4.8.4          | 2.9 MB    | ###        |  31% \n",
      "conda-4.8.4          | 2.9 MB    | ###8       |  39% \n",
      "conda-4.8.4          | 2.9 MB    | ####6      |  47% \n",
      "conda-4.8.4          | 2.9 MB    | #####4     |  54% \n",
      "conda-4.8.4          | 2.9 MB    | ######1    |  61% \n",
      "conda-4.8.4          | 2.9 MB    | ######8    |  69% \n",
      "conda-4.8.4          | 2.9 MB    | #######7   |  77% \n",
      "conda-4.8.4          | 2.9 MB    | ########4  |  85% \n",
      "conda-4.8.4          | 2.9 MB    | #########3 |  93% \n",
      "conda-4.8.4          | 2.9 MB    | ########## | 100% \n",
      "Preparing transaction: ...working... done\n",
      "Verifying transaction: ...working... done\n",
      "Executing transaction: ...working... done\n"
     ]
    }
   ],
   "source": [
    "!conda install -y scipy"
   ]
  },
  {
   "cell_type": "code",
   "execution_count": 10,
   "metadata": {},
   "outputs": [
    {
     "data": {
      "image/png": "[encoded data removed]",
      "text/plain": [
       "<Figure size 720x432 with 1 Axes>"
      ]
     },
     "metadata": {
      "needs_background": "light"
     },
     "output_type": "display_data"
    }
   ],
   "source": [
    "from scipy.cluster.hierarchy import dendrogram, linkage\n",
    " \n",
    "linked = linkage(X, 'single')\n",
    "\n",
    "labellist = range(1,11)\n",
    "\n",
    "plt.figure(figsize=(10,6))\n",
    "dendrogram(linked,\n",
    "         orientation='top',\n",
    "         labels=labellist,\n",
    "         distance_sort= 'descending',\n",
    "         show_leaf_counts=True\n",
    "         )\n",
    "\n",
    "plt.show()\n"
   ]
  },
  {
   "cell_type": "code",
   "execution_count": null,
   "metadata": {},
   "outputs": [],
   "source": []
  },
  {
   "cell_type": "code",
   "execution_count": null,
   "metadata": {},
   "outputs": [],
   "source": []
  }
 ],
 "metadata": {
  "kernelspec": {
   "display_name": "Python 3",
   "language": "python",
   "name": "python3"
  },
  "language_info": {
   "codemirror_mode": {
    "name": "ipython",
    "version": 3
   },
   "file_extension": ".py",
   "mimetype": "text/x-python",
   "name": "python",
   "nbconvert_exporter": "python",
   "pygments_lexer": "ipython3",
   "version": "3.7.6"
  }
 },
 "nbformat": 4,
 "nbformat_minor": 4
}
